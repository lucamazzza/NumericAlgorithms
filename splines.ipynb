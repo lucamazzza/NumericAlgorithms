{
  "nbformat": 4,
  "nbformat_minor": 0,
  "metadata": {
    "colab": {
      "provenance": []
    },
    "kernelspec": {
      "name": "python3",
      "display_name": "Python 3"
    },
    "language_info": {
      "name": "python"
    }
  },
  "cells": [
    {
      "cell_type": "markdown",
      "source": [
        "# Gauss and Substitution\n",
        "In order to interpolate using the Cubic SP-Line method we need to run the _Gaussian Reduction_ method to obtain a triangular matrice and the _Substitution_ to obtain a solution.\n",
        "\n",
        "## Gauss\n",
        "The Gaussian Reduction works on the annihilition of the terms under the pivots of the matrice (those being the elements under the main diagonal).\n",
        "\n",
        "## Substitution\n",
        "The Substitution method thrives upon the presence of an upper-triangular matrice, who simplifies the computation of the result. Here is a visual representation of the substitution method using the matrice $A$, the known terms vector $b$.\n",
        "\n",
        "$$\n",
        "A=\\left[\\begin{array}{cc}1&2&3\\\\0&1&2\\\\0&0&1\\end{array}\\right],\\space\n",
        "b=\\left[\\begin{array}{cc}1\\\\2\\\\3\\end{array}\\right],\\space\n",
        "x*=\\left[\\begin{array}{cc}\\frac{(1-3\\cdot3-3\\cdot(-4))}1\\\\\\frac{(2-2\\cdot3)}1\\\\\\frac31\\end{array}\\right]\n",
        "$$\n"
      ],
      "metadata": {
        "id": "plwji7OGw8KE"
      }
    },
    {
      "cell_type": "code",
      "source": [
        "def substitution(box):\n",
        "  \"\"\"\n",
        "  Computes a solution of a triangular system using substitution;\n",
        "  being the matrice (A|b) triangular it is possible to compute it with\n",
        "        [1,2,3][1]         [(1-3*3-3*(-4))/1]\n",
        "  A|b = [0,1,2][2] => x* = [(2-2*3)/1]\n",
        "        [0,0,1][3]         [3/1]\n",
        "\n",
        "  Parameters:\n",
        "  - box (matrice): a matrice containing A|b, where A is the matrice containing\n",
        "                   the coefficients of the system's variables and b the known\n",
        "                   terms\n",
        "  Return:\n",
        "  - x* (vector): a vector representing the solution to the system\n",
        "  \"\"\"\n",
        "  n = len(box)\n",
        "  x = [0 for _ in range(len(box))]\n",
        "  for i in range(n-1,-1,-1):\n",
        "    tmp = 0.0\n",
        "    for j in range(n-1,i,-1):\n",
        "      tmp += box[i][j]*x[j]\n",
        "\n",
        "    x[i] =  (box[i][n]-tmp)/box[i][i]\n",
        "\n",
        "  return x\n",
        "\n",
        "def gauss(box):\n",
        "  \"\"\"\n",
        "  The Gaussian Reduction (at least part of that) is used to \"triangularise\" a\n",
        "  matrice, obtaining an upper-triangular one with the same characteristics as\n",
        "  the starting one.\n",
        "\n",
        "  Parameters:\n",
        "  - box (matrice): a matrice containing A|b, where A is the matrice containing\n",
        "                   the coefficients of the system's variables and b the known\n",
        "                   terms\n",
        "  Return:\n",
        "  - box (matrice): the same box provided as parameter, but \"triangularised\"\n",
        "  \"\"\"\n",
        "  for k in range(len(box)-1):\n",
        "    pivot = box[k][k]\n",
        "    for i in range(k+1,len(box)):\n",
        "      const = box[i][k]/pivot\n",
        "      for j in range(k,len(box[0])):\n",
        "        box[i][j] -= const*box[k][j]\n",
        "\n",
        "  return box"
      ],
      "metadata": {
        "id": "S6AYfJsqE_RB"
      },
      "execution_count": null,
      "outputs": []
    },
    {
      "cell_type": "markdown",
      "source": [
        "# Box Generator\n",
        "The box generator is used to dynamically generate an equation system suitable for the Cubic SP-Line method, which needs a matrice that looks like this:\n",
        "\n",
        "$$\n",
        "A=\\left[\\begin{array}{cc}4&1&0\\\\1&4&1\\\\0&1&4\\end{array}\\right]\n",
        "$$\n",
        "\n",
        "The vector $b$ is calculated with the formula:\n",
        "\n",
        "$$\n",
        "b_k=6\\cdot(y_k-2y_{k+1}+y_{k+2})\n",
        "$$"
      ],
      "metadata": {
        "id": "rrTvTBIXEu39"
      }
    },
    {
      "cell_type": "code",
      "source": [
        "import numpy as np\n",
        "\n",
        "def box_gen(ys):\n",
        "  \"\"\"\n",
        "  Generates a box, with 4s on the diagonal,\n",
        "  1s on the anti- and post-diagonal.\n",
        "  Finally computes the b vector of the box based\n",
        "  on the y points array.\n",
        "\n",
        "  Parameters:\n",
        "  - ys (array): an array of numbers representing the ordinates\n",
        "                of the interpolation\n",
        "  Return:\n",
        "  - box (matrice): an array containing the box used to compute the zs\n",
        "  \"\"\"\n",
        "  z_size = len(ys) - 2\n",
        "  box = np.zeros((z_size, z_size + 1))\n",
        "  for i in range(z_size):\n",
        "    for j in range(z_size + 1):\n",
        "      if i == j:\n",
        "        box[i][j] = 4\n",
        "      elif (i == j - 1 or i == j + 1) and j != z_size:\n",
        "        box[i][j] = 1\n",
        "      elif j == z_size:\n",
        "        box[i][j] = 6*(ys[i]-2*ys[i+1]+ys[i+2])\n",
        "      else:\n",
        "        box[i]\n",
        "\n",
        "  return box"
      ],
      "metadata": {
        "id": "ccx1YNi7_7FB"
      },
      "execution_count": null,
      "outputs": []
    },
    {
      "cell_type": "markdown",
      "source": [
        "# Quadratic SP-Line\n",
        "The Quadratic SP-Line is a method to approximate a function a using piece-wise defined functions that best approximate it between the interval. SP-Lines take an array of xs and an array of ys and compute said piece-wise functions between said points.\n",
        "\n",
        "First we have to calculate the $z_k$ values that are used to compose the polynomial, using this formula ($z_0$ is normally defaulted to $0$):\n",
        "\n",
        "$$\n",
        "z_{k+1}=-z_k+2\\frac{y_{k+1}-y_k}{x_{k+1}-y_k}\n",
        "$$\n",
        "\n",
        "The formula defining the structure of said polynomial is this:\n",
        "\n",
        "$$\n",
        "f_k(x)=y_k+z_k(x-x_k)+\\frac{z_{k+1}-z_k}{2(x_{k+1}-x_k)}(x-x_k)^2\n",
        "$$"
      ],
      "metadata": {
        "id": "tfbY9_lmQg5m"
      }
    },
    {
      "cell_type": "code",
      "source": [
        "def quadratic_spline(xs, ys, z0=0):\n",
        "  \"\"\"\n",
        "  Interpolates a set of points using the Quadratic SP-Line Method.\n",
        "  The Quadratic SP-Line first computes the zs ...\n",
        "\n",
        "  Parameters:\n",
        "  - xs (array):  the x coordinates of the interpolated points\n",
        "  - ys (array):  the y coordinates of the interpolated points\n",
        "  - z0 (number): the first z is determined by the user (default = 0)\n",
        "  Return:\n",
        "  - fs (lambda array): an array containing the functions defined in between the\n",
        "                       different xs of the points; for example if the xs are\n",
        "                       [0, 1, 2, 3], there will be a function defining the\n",
        "                       interpolation between 0 and 1, 1 and 2, and so on.\n",
        "  \"\"\"\n",
        "  zs = [0 for _ in range(len(xs))]\n",
        "  zs[0] = z0\n",
        "  fs = []\n",
        "  for k in range(len(zs) - 1):\n",
        "    zs[k+1] = -zs[k]+2*(ys[k+1]-ys[k])/(xs[k+1]-xs[k])\n",
        "    f = lambda x, k=k: ys[k]+zs[k]*(x-xs[k])+(zs[k+1]-zs[k])/(2*(xs[k+1]-xs[k]))*(x-xs[k])**2\n",
        "    fs.append(f)\n",
        "\n",
        "  return fs"
      ],
      "metadata": {
        "id": "G7EqEw0EQgrA"
      },
      "execution_count": null,
      "outputs": []
    },
    {
      "cell_type": "markdown",
      "source": [
        "# Cubic SP-Line\n",
        "The Cubic SP-Line is a method to approximate a function using a piece-wise defined function that best approximates it between an interval.\n",
        "SP-Lines take an array of xs and an array of ys and compute said piece-wise functions between said points.\n",
        "The formula defining the structure of said polynomial is this:\n",
        "\n",
        "$$\n",
        "f_k(x)=\\frac{z_{k+1}(x-x_k)^3+z_k(x_{k+1}-x)^3}{6h_k}+\\bigg(\\frac{y_{k+1}}{h_k}-\\frac{h_k}6z_{k+1}\\bigg)(x-x_k)+\\bigg(\\frac{y_k}{h_k}-\\frac{h_k}{6}z_k\\bigg)(x_{k+1}-x)\n",
        "$$"
      ],
      "metadata": {
        "id": "i9HP9UYH_7eh"
      }
    },
    {
      "cell_type": "code",
      "execution_count": null,
      "metadata": {
        "id": "Mcmyo8qzDPv1"
      },
      "outputs": [],
      "source": [
        "def cubic_spline(xs, ys):\n",
        "  \"\"\"\n",
        "  Interpolates a set of points using the Cubic SP-Line Method.\n",
        "  The Cubic SP-Line first computes the zs using a system and solving it using\n",
        "  the Gaussian Reduction and Substitution.\n",
        "  The first and last z are by default 0, as for the specification for the\n",
        "  natural SP-Line.\n",
        "  Then for every range in between two xs, a polynomial is calculated using the\n",
        "  formula described overhead.\n",
        "\n",
        "  Parameters:\n",
        "  - xs (array): the x coordinates of the interpolated points\n",
        "  - ys (array): the y coordinates of the interpolated points\n",
        "  Return:\n",
        "  - fs (lambda array): an array containing the functions defined in between the\n",
        "                       different xs of the points; for example if the xs are\n",
        "                       [0, 1, 2, 3], there will be a function defining the\n",
        "                       interpolation between 0 and 1, 1 and 2, and so on.\n",
        "  \"\"\"\n",
        "  box = box_gen(ys)\n",
        "  zs = substitution(gauss(box))\n",
        "  # first and last z are always 0 for natural cubic SP-Lines\n",
        "  zs.insert(0, 0)\n",
        "  zs.append(0)\n",
        "\n",
        "  hs = [0 for _ in range(len(xs) - 1)]\n",
        "  fs = []\n",
        "  for k in range(len(xs) - 1):\n",
        "    hs[k] = xs[k+1] - xs[k]\n",
        "    action = lambda x, k=k: (((zs[k+1]*(x - xs[k])**3+zs[k]*(xs[k+1]-x)**3)/(6*hs[k]))+((ys[k+1]/hs[k])-(hs[k]/6)*zs[k+1])*(x-xs[k])+((ys[k]/hs[k])-((hs[k]/6)*zs[k]))*(xs[k+1]-x))\n",
        "    fs.append(action)\n",
        "\n",
        "  return fs"
      ]
    },
    {
      "cell_type": "markdown",
      "source": [],
      "metadata": {
        "id": "4BysSptbEwQW"
      }
    },
    {
      "cell_type": "code",
      "source": [
        "import numpy as np\n",
        "import matplotlib.pyplot as plt\n",
        "\n",
        "def eval(x, xs, spline):\n",
        "  \"\"\"\n",
        "  Evaluates an x into a set of polynomials resulting from an SP-Line, choosing\n",
        "  the right one for the range.\n",
        "\n",
        "  Parameters:\n",
        "  - x (number):     the x to evaluate\n",
        "  - xs (array):     the set of xs\n",
        "  - spline (array): the set of polynomials\n",
        "  Return:\n",
        "   - y: the evalued y of the SP-Line\n",
        "  \"\"\"\n",
        "  for k in range(len(spline)):\n",
        "    if x >= xs[k] and x <= xs[k + 1]:\n",
        "      return spline[k](x)\n",
        "\n",
        "\n",
        "def plot_of(xs, ys, f, quad, cubc):\n",
        "  \"\"\"\n",
        "  Prints the plots that compares the different SP-Lines with the function\n",
        "\n",
        "  Parameters:\n",
        "  - xs (array):   the x coordinates\n",
        "  - ys (array):   the y coordinates\n",
        "  - f (lambda):   the original function\n",
        "  - quad (array): array of function obtained from the quadratic SP-Line\n",
        "  - cubc (array): array of function obtained from the cubic SP-Line\n",
        "  \"\"\"\n",
        "  fig = plt.figure()\n",
        "  ax = fig.add_subplot()\n",
        "  ax.set_title('SP-Lines Comparison')\n",
        "\n",
        "  x = np.linspace(xs[0], xs[-1], 1000)\n",
        "  y = []\n",
        "\n",
        "  for evl in x:\n",
        "    y.append(f(evl))\n",
        "\n",
        "  ax.plot(x,y, linestyle=':', c='#6d6d6d')\n",
        "\n",
        "  y = []\n",
        "  for evl in x:\n",
        "    y.append(eval(evl, xs, quad))\n",
        "\n",
        "  ax.plot(x, y, c='r')\n",
        "\n",
        "  y = []\n",
        "  for evl in x:\n",
        "    y.append(eval(evl, xs, cubc))\n",
        "\n",
        "  ax.plot(x, y, c='b')\n",
        "\n",
        "  ax.spines['left'].set_position('center')\n",
        "  ax.spines['right'].set_color('none')\n",
        "  ax.spines['bottom'].set_position('center')\n",
        "  ax.spines['top'].set_color('none')\n",
        "\n",
        "  ax.grid()\n",
        "\n",
        "  plt.show()"
      ],
      "metadata": {
        "id": "aIf_JFgHDz8Q"
      },
      "execution_count": null,
      "outputs": []
    },
    {
      "cell_type": "code",
      "source": [
        "import math\n",
        "import numpy as np\n",
        "\n",
        "# Given xs\n",
        "xs = [-2, -1, 0, 1, 2]\n",
        "\n",
        "# Original function\n",
        "f = lambda x : math.sin(x)\n",
        "\n",
        "# Set of xs and ys of the function\n",
        "ys = [f(xs[0]), f(xs[1]), f(xs[2]), f(xs[3]), f(xs[4])]\n",
        "\n",
        "quad = quadratic_spline(xs, ys)\n",
        "cubc = cubic_spline(xs, ys)\n",
        "\n",
        "evl = 1.5\n",
        "evl_f = f(evl)\n",
        "evl_q = eval(evl, xs, quad)\n",
        "evl_c = eval(evl, xs, cubc)\n",
        "\n",
        "plot_of(xs, ys, f, quad, cubc)\n",
        "\n",
        "print(\"f(\",evl,\")=\",evl_f)\n",
        "print(\"q(\",evl,\")=\",evl_q)\n",
        "print(\"c(\",evl,\")=\",evl_c)\n",
        "\n"
      ],
      "metadata": {
        "colab": {
          "base_uri": "https://localhost:8080/",
          "height": 479
        },
        "id": "Gp9KTFINEwGA",
        "outputId": "7e7e30db-e8c7-458e-dcfe-a5418a275003"
      },
      "execution_count": null,
      "outputs": [
        {
          "output_type": "display_data",
          "data": {
            "text/plain": [
              "<Figure size 640x480 with 1 Axes>"
            ],
            "image/png": "[encoded data removed]"
          },
          "metadata": {}
        },
        {
          "output_type": "stream",
          "name": "stdout",
          "text": [
            "f( 1.5 )= 0.9974949866040544\n",
            "q( 1.5 )= 0.8923408163212354\n",
            "c( 1.5 )= 0.947913381703362\n"
          ]
        }
      ]
    },
    {
      "cell_type": "markdown",
      "source": [
        "Authors: Luca Mazza & Ivo Herceg © 2024"
      ],
      "metadata": {
        "id": "j-OofoajWWwB"
      }
    }
  ]
}
