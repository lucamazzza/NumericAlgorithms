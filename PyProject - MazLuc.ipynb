{
  "nbformat": 4,
  "nbformat_minor": 0,
  "metadata": {
    "colab": {
      "provenance": []
    },
    "kernelspec": {
      "name": "python3",
      "display_name": "Python 3"
    },
    "language_info": {
      "name": "python"
    }
  },
  "cells": [
    {
      "cell_type": "markdown",
      "source": [
        "## `bracket_of()` Function\n",
        "The function `bracket_of()` is helpful to find a suitable bracket for bracketing algorithms such as Bisection or False Position.\n",
        "\n",
        "It basically starts from the origin of the function and iterates through x's with a determined step until it finds two points between which the function changes sign."
      ],
      "metadata": {
        "id": "XfM8herOVRar"
      }
    },
    {
      "cell_type": "code",
      "execution_count": null,
      "metadata": {
        "id": "TQ28df5c8MkK"
      },
      "outputs": [],
      "source": [
        "def bracket_of(f, x=0, s=1e-1, k=2.0, ops=1000):\n",
        "    \"\"\"\n",
        "    Finds the bracket of a function.\n",
        "\n",
        "    Parameters:\n",
        "        f (function): The function for which the bracket is to be found.\n",
        "        x (float, optional): The initial guess for the bracket. Defaults to 0.\n",
        "        s (float, optional): The step size for the bracket. Defaults to 1e-2.\n",
        "        k (float, optional): The scaling factor for the bracket. Defaults to 2.0.\n",
        "        ops (int, optional): The maximum number of iterations for the bracket. Defaults to 1000.\n",
        "\n",
        "    Returns:\n",
        "        tuple: A tuple containing the lower and upper bounds of the bracket.\n",
        "    \"\"\"\n",
        "    a, fa = x, f(x)\n",
        "    b, fb = a + s, f(a + s)\n",
        "    if fb > fa:\n",
        "        a, b = b, a\n",
        "        fa, fb = fb, fa\n",
        "        s = -s\n",
        "    for _ in range(ops):\n",
        "        c, fc = b + s, f(b + s)\n",
        "        if fc * fb < 0:\n",
        "            return (round(a, 1),round(c, 1))if a < c else(round(c,1),round(a,1))\n",
        "        a, fa, b, fb = b, fb, c, fc\n",
        "        s *= k"
      ]
    },
    {
      "cell_type": "markdown",
      "source": [
        "## `plot_of()` Function\n",
        "The function `plot_of()` prints on the terminal a plot representing the function and the two points of the bracket, in red.\n",
        "\n",
        "You can decide, in the parameter, the `zoom` level of the plot, of which 0 is the width of the bracket and 5 is with a 5-span from the bracket."
      ],
      "metadata": {
        "id": "22cjhKU-WYu3"
      }
    },
    {
      "cell_type": "code",
      "source": [
        "import numpy as np\n",
        "import matplotlib.pyplot as plt\n",
        "import pandas as pd\n",
        "import seaborn as sns\n",
        "\n",
        "def plot_of(f, zoom=1):\n",
        "  \"\"\"\n",
        "  Prints the plot and the bracketing points of a function\n",
        "\n",
        "  Parameters:\n",
        "      f (function): The function for which to plot and bracket\n",
        "      zoom (int, optional): zoom level on the plot (0: smallest, n: biggest)\n",
        "  \"\"\"\n",
        "  bracket = bracket_of(f)\n",
        "  x = np.linspace(bracket[0] - zoom, bracket[1] + zoom, 1000)\n",
        "  y = f(x)\n",
        "  df = pd.DataFrame(zip(x, y), columns=['x', 'y=f(x)']).set_index('x')\n",
        "  fig, ax = plt.subplots()\n",
        "\n",
        "  # Plot sns.lineplot() to the ax\n",
        "  sns.set_palette('Set2')\n",
        "  sns.set_style('whitegrid')\n",
        "  sns.lineplot(df, ax=ax)\n",
        "  ax.set_title('Bracket', size=11)\n",
        "  ax.set_xlim(bracket[0] - zoom, bracket[1] + zoom)\n",
        "  ax.set_ylim(-10, 20)\n",
        "\n",
        "  # Despine the graph\n",
        "  sns.despine()\n",
        "  plt.scatter(bracket, (0,0), color='red')\n",
        "  plt.show()"
      ],
      "metadata": {
        "id": "Fot9gv0k9z9z"
      },
      "execution_count": null,
      "outputs": []
    },
    {
      "cell_type": "markdown",
      "source": [
        "## Usage\n",
        "To use the `plot_of()` function you have to provide a `lambda` expression with the function of x. You can optionally define the zoom level, which is default = 1.\n",
        "\n",
        "For the function `bracket_of()` you must provide a `lambda` expression, in the same way you did for `plot_of()`. You can optionally provide the starting point (default = 0), the step size (default = 1e-1) the scaling factor of the bracket (default = 2.0) and the maximum number of operations you want the function to execute (default = 1000)."
      ],
      "metadata": {
        "id": "JUD7kW7-Xqmb"
      }
    },
    {
      "cell_type": "code",
      "source": [
        "# Example with function -5x^2 + 2x + 2\n",
        "plot_of(lambda x: -5*x**2 + 2*x + 2)\n",
        "print(\"Bracket: \", bracket_of(lambda x: -5*x**2 + 2*x + 2))"
      ],
      "metadata": {
        "colab": {
          "base_uri": "https://localhost:8080/",
          "height": 487
        },
        "id": "lDOtS2al9pOL",
        "outputId": "3ca279ed-5eef-46bc-8bd1-4c8e30666a84"
      },
      "execution_count": 140,
      "outputs": [
        {
          "output_type": "display_data",
          "data": {
            "text/plain": [
              "<Figure size 640x480 with 1 Axes>"
            ],
            "image/png": "[encoded data removed]"
          },
          "metadata": {}
        },
        {
          "output_type": "stream",
          "name": "stdout",
          "text": [
            "Bracket:  (-0.7, -0.1)\n"
          ]
        }
      ]
    }
  ]
}